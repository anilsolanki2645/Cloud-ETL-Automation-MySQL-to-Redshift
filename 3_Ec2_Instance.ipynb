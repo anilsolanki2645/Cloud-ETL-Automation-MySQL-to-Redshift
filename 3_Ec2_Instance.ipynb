{
  "cells": [
    {
      "cell_type": "markdown",
      "metadata": {
        "id": "sjqiX8VKGCrU"
      },
      "source": [
        "# AWS EC2 Setup with MySQL Installation and Database Configuration\n"
      ]
    },
    {
      "cell_type": "markdown",
      "metadata": {
        "id": "BRGkHKuPFxse"
      },
      "source": [
        "* Mounts Google Drive"
      ]
    },
    {
      "cell_type": "code",
      "execution_count": 1,
      "metadata": {
        "colab": {
          "base_uri": "https://localhost:8080/"
        },
        "id": "67Hz2Nnwou8o",
        "outputId": "e12f19dc-2a4c-4b71-b7d1-6061c86f56ae"
      },
      "outputs": [
        {
          "name": "stdout",
          "output_type": "stream",
          "text": [
            "Drive already mounted at /content/drive; to attempt to forcibly remount, call drive.mount(\"/content/drive\", force_remount=True).\n"
          ]
        }
      ],
      "source": [
        "from google.colab import drive\n",
        "drive.mount('/content/drive')"
      ]
    },
    {
      "cell_type": "markdown",
      "metadata": {
        "id": "-fjUjGtnHE9S"
      },
      "source": [
        "* Installing Required Python Packages: boto3 and paramiko\n"
      ]
    },
    {
      "cell_type": "code",
      "execution_count": 2,
      "metadata": {
        "colab": {
          "base_uri": "https://localhost:8080/"
        },
        "id": "Ps3tupEuqqAI",
        "outputId": "d17c9b11-a3e7-424c-9c7d-d85e0894300d"
      },
      "outputs": [
        {
          "name": "stdout",
          "output_type": "stream",
          "text": [
            "Collecting boto3\n",
            "  Downloading boto3-1.34.1-py3-none-any.whl (139 kB)\n",
            "\u001b[2K     \u001b[90m━━━━━━━━━━━━━━━━━━━━━━━━━━━━━━━━━━━━━━━━\u001b[0m \u001b[32m139.3/139.3 kB\u001b[0m \u001b[31m3.0 MB/s\u001b[0m eta \u001b[36m0:00:00\u001b[0m\n",
            "\u001b[?25hCollecting paramiko\n",
            "  Downloading paramiko-3.3.1-py3-none-any.whl (224 kB)\n",
            "\u001b[2K     \u001b[90m━━━━━━━━━━━━━━━━━━━━━━━━━━━━━━━━━━━━━━━━\u001b[0m \u001b[32m224.8/224.8 kB\u001b[0m \u001b[31m8.5 MB/s\u001b[0m eta \u001b[36m0:00:00\u001b[0m\n",
            "\u001b[?25hCollecting botocore<1.35.0,>=1.34.1 (from boto3)\n",
            "  Downloading botocore-1.34.1-py3-none-any.whl (11.8 MB)\n",
            "\u001b[2K     \u001b[90m━━━━━━━━━━━━━━━━━━━━━━━━━━━━━━━━━━━━━━━━\u001b[0m \u001b[32m11.8/11.8 MB\u001b[0m \u001b[31m38.1 MB/s\u001b[0m eta \u001b[36m0:00:00\u001b[0m\n",
            "\u001b[?25hCollecting jmespath<2.0.0,>=0.7.1 (from boto3)\n",
            "  Downloading jmespath-1.0.1-py3-none-any.whl (20 kB)\n",
            "Collecting s3transfer<0.10.0,>=0.9.0 (from boto3)\n",
            "  Downloading s3transfer-0.9.0-py3-none-any.whl (82 kB)\n",
            "\u001b[2K     \u001b[90m━━━━━━━━━━━━━━━━━━━━━━━━━━━━━━━━━━━━━━━━\u001b[0m \u001b[32m82.0/82.0 kB\u001b[0m \u001b[31m8.3 MB/s\u001b[0m eta \u001b[36m0:00:00\u001b[0m\n",
            "\u001b[?25hCollecting bcrypt>=3.2 (from paramiko)\n",
            "  Downloading bcrypt-4.1.2-cp39-abi3-manylinux_2_28_x86_64.whl (698 kB)\n",
            "\u001b[2K     \u001b[90m━━━━━━━━━━━━━━━━━━━━━━━━━━━━━━━━━━━━━━━━\u001b[0m \u001b[32m698.9/698.9 kB\u001b[0m \u001b[31m35.2 MB/s\u001b[0m eta \u001b[36m0:00:00\u001b[0m\n",
            "\u001b[?25hRequirement already satisfied: cryptography>=3.3 in /usr/local/lib/python3.10/dist-packages (from paramiko) (41.0.7)\n",
            "Collecting pynacl>=1.5 (from paramiko)\n",
            "  Downloading PyNaCl-1.5.0-cp36-abi3-manylinux_2_17_x86_64.manylinux2014_x86_64.manylinux_2_24_x86_64.whl (856 kB)\n",
            "\u001b[2K     \u001b[90m━━━━━━━━━━━━━━━━━━━━━━━━━━━━━━━━━━━━━━━━\u001b[0m \u001b[32m856.7/856.7 kB\u001b[0m \u001b[31m38.0 MB/s\u001b[0m eta \u001b[36m0:00:00\u001b[0m\n",
            "\u001b[?25hRequirement already satisfied: python-dateutil<3.0.0,>=2.1 in /usr/local/lib/python3.10/dist-packages (from botocore<1.35.0,>=1.34.1->boto3) (2.8.2)\n",
            "Requirement already satisfied: urllib3<2.1,>=1.25.4 in /usr/local/lib/python3.10/dist-packages (from botocore<1.35.0,>=1.34.1->boto3) (2.0.7)\n",
            "Requirement already satisfied: cffi>=1.12 in /usr/local/lib/python3.10/dist-packages (from cryptography>=3.3->paramiko) (1.16.0)\n",
            "Requirement already satisfied: pycparser in /usr/local/lib/python3.10/dist-packages (from cffi>=1.12->cryptography>=3.3->paramiko) (2.21)\n",
            "Requirement already satisfied: six>=1.5 in /usr/local/lib/python3.10/dist-packages (from python-dateutil<3.0.0,>=2.1->botocore<1.35.0,>=1.34.1->boto3) (1.16.0)\n",
            "Installing collected packages: jmespath, bcrypt, pynacl, botocore, s3transfer, paramiko, boto3\n",
            "Successfully installed bcrypt-4.1.2 boto3-1.34.1 botocore-1.34.1 jmespath-1.0.1 paramiko-3.3.1 pynacl-1.5.0 s3transfer-0.9.0\n"
          ]
        }
      ],
      "source": [
        "!pip install boto3 paramiko"
      ]
    },
    {
      "cell_type": "markdown",
      "metadata": {
        "id": "Z_q-E5DxHMn9"
      },
      "source": [
        "* AWS and Paramiko Library Importation\n"
      ]
    },
    {
      "cell_type": "code",
      "execution_count": 3,
      "metadata": {
        "id": "NtViPm0gszfI"
      },
      "outputs": [],
      "source": [
        "import boto3\n",
        "import paramiko\n",
        "import time\n",
        "import subprocess"
      ]
    },
    {
      "cell_type": "markdown",
      "metadata": {
        "id": "xqSc2pj0Ho23"
      },
      "source": [
        "\n",
        "* Declare important variable"
      ]
    },
    {
      "cell_type": "code",
      "execution_count": 4,
      "metadata": {
        "id": "HyR4GJ0Ps24i"
      },
      "outputs": [],
      "source": [
        "# AWS Credentials\n",
        "aws_access_key = 'your aws_access_key'\n",
        "aws_secret_key = 'your aws_secret_key'\n",
        "\n",
        "# EC2 instance details\n",
        "#you can change according to your need\n",
        "region_name = 'ap-south-1'\n",
        "instance_type = 't2.micro'\n",
        "ami_id = 'ami-0287a05f0ef0e9d9a'  #default ami Ubuntu 20.04 LTS 64-bit\n",
        "key_pair_name = 'ETL_KP'\n",
        "security_group_name = 'ETL_SG'\n",
        "tag_key = 'Name'\n",
        "tag_value = 'Etl_Project_server'"
      ]
    },
    {
      "cell_type": "markdown",
      "metadata": {
        "id": "TqdSUbi8IKTx"
      },
      "source": [
        "* AWS EC2 Connection Setup\n"
      ]
    },
    {
      "cell_type": "code",
      "execution_count": 5,
      "metadata": {
        "id": "1Is_FCq5s7RG"
      },
      "outputs": [],
      "source": [
        "# Create object for Connect to EC2\n",
        "ec2 = boto3.resource('ec2', aws_access_key_id=aws_access_key, aws_secret_access_key=aws_secret_key, region_name=region_name)\n",
        "\n",
        "# Create object for Connect an EC2 client\n",
        "ec2_client = boto3.client('ec2', aws_access_key_id=aws_access_key, aws_secret_access_key=aws_secret_key, region_name=region_name)"
      ]
    },
    {
      "cell_type": "markdown",
      "metadata": {
        "id": "kQNagQcCIeF7"
      },
      "source": [
        "* Configure AWS EC2 Instance, Key Pair, Security Group, and Instance Launch Setup"
      ]
    },
    {
      "cell_type": "code",
      "execution_count": 13,
      "metadata": {
        "colab": {
          "base_uri": "https://localhost:8080/"
        },
        "id": "pcsOI0UgpY5t",
        "outputId": "023dc625-ff8b-452a-f908-327beb178156"
      },
      "outputs": [
        {
          "name": "stdout",
          "output_type": "stream",
          "text": [
            "Key pair \"ETL_KP\" created and saved to ETL_KP.pem\n",
            "Security group \"ETL_SG\" created with SSH, HTTP, and MySQL access\n",
            "Launching EC2 instance with ID: i-002d393f2d417afaa\n",
            "EC2 instance running with public IP: 13.201.85.179\n"
          ]
        }
      ],
      "source": [
        "# Create key pair\n",
        "key_pair = ec2.create_key_pair(KeyName=key_pair_name)\n",
        "with open(f'{key_pair_name}.pem', 'w') as key_file:\n",
        "    key_file.write(key_pair.key_material)\n",
        "print(f'Key pair \"{key_pair_name}\" created and saved to {key_pair_name}.pem')\n",
        "\n",
        "# Create security group\n",
        "security_group = ec2.create_security_group(\n",
        "    GroupName=security_group_name,\n",
        "    Description='Security group for MySQL, HTTP, SSH access',\n",
        "    VpcId='vpc-051c6bf2ff976c0e8'  # Replace with your VPC ID\n",
        ")\n",
        "\n",
        "# Authorize inbound rules for SSH, HTTP, and MySQL\n",
        "security_group.authorize_ingress(\n",
        "    IpProtocol='tcp',\n",
        "    FromPort=22,\n",
        "    ToPort=22,\n",
        "    CidrIp='0.0.0.0/0'\n",
        ")\n",
        "\n",
        "security_group.authorize_ingress(\n",
        "    IpProtocol='tcp',\n",
        "    FromPort=80,\n",
        "    ToPort=80,\n",
        "    CidrIp='0.0.0.0/0'\n",
        ")\n",
        "\n",
        "security_group.authorize_ingress(\n",
        "    IpProtocol='tcp',\n",
        "    FromPort=3306,\n",
        "    ToPort=3306,\n",
        "    CidrIp='0.0.0.0/0'\n",
        ")\n",
        "\n",
        "print(f'Security group \"{security_group_name}\" created with SSH, HTTP, and MySQL access')\n",
        "\n",
        "# Launch EC2 instance\n",
        "instances = ec2.create_instances(\n",
        "    ImageId=ami_id,\n",
        "    InstanceType=instance_type,\n",
        "    MinCount=1,\n",
        "    MaxCount=1,\n",
        "    KeyName=key_pair_name,\n",
        "    SecurityGroupIds=[security_group.id],\n",
        "    TagSpecifications=[\n",
        "                {\n",
        "                    'ResourceType': 'instance',\n",
        "                    'Tags': [\n",
        "                        {'Key': tag_key, 'Value': tag_value},\n",
        "                        # Add more tags as needed\n",
        "                    ]\n",
        "                }\n",
        "            ]\n",
        ")\n",
        "\n",
        "instance = instances[0]\n",
        "\n",
        "# Wait for the instance to be running\n",
        "print(f'Launching EC2 instance with ID: {instance.id}')\n",
        "instance.wait_until_running()\n",
        "instance.reload()\n",
        "print(f'EC2 instance running with public IP: {instance.public_ip_address}')\n"
      ]
    },
    {
      "cell_type": "markdown",
      "metadata": {
        "id": "W3tovqRyJBxK"
      },
      "source": [
        "* SSH into AWS EC2 Instance and Execute MySQL Setup Commands\n",
        "* before connecting attach a iam role with s3 permission to the EC2 instance\n",
        "* change the sql user password at 'your_sql_user_password'"
      ]
    },
    {
      "cell_type": "code",
      "execution_count": 18,
      "metadata": {
        "colab": {
          "base_uri": "https://localhost:8080/"
        },
        "id": "BBzW5Zm5wSCd",
        "outputId": "ae441357-4bb0-4d26-d4c9-6dea49687b20"
      },
      "outputs": [
        {
          "name": "stdout",
          "output_type": "stream",
          "text": [
            "Command Output for 'sudo apt-get upgrade -y':\n",
            "Reading package lists...\n",
            "Building dependency tree...\n",
            "Reading state information...\n",
            "Calculating upgrade...\n",
            "0 upgraded, 0 newly installed, 0 to remove and 0 not upgraded.\n",
            "\n",
            "Command Error for 'sudo apt-get upgrade -y':\n",
            "\n",
            "Command Output for 'sudo apt-get install nginx -y':\n",
            "Reading package lists...\n",
            "Building dependency tree...\n",
            "Reading state information...\n",
            "The following additional packages will be installed:\n",
            "  fontconfig-config fonts-dejavu-core libdeflate0 libfontconfig1 libgd3\n",
            "  libjbig0 libjpeg-turbo8 libjpeg8 libnginx-mod-http-geoip2\n",
            "  libnginx-mod-http-image-filter libnginx-mod-http-xslt-filter\n",
            "  libnginx-mod-mail libnginx-mod-stream libnginx-mod-stream-geoip2 libtiff5\n",
            "  libwebp7 libxpm4 nginx-common nginx-core\n",
            "Suggested packages:\n",
            "  libgd-tools fcgiwrap nginx-doc ssl-cert\n",
            "The following NEW packages will be installed:\n",
            "  fontconfig-config fonts-dejavu-core libdeflate0 libfontconfig1 libgd3\n",
            "  libjbig0 libjpeg-turbo8 libjpeg8 libnginx-mod-http-geoip2\n",
            "  libnginx-mod-http-image-filter libnginx-mod-http-xslt-filter\n",
            "  libnginx-mod-mail libnginx-mod-stream libnginx-mod-stream-geoip2 libtiff5\n",
            "  libwebp7 libxpm4 nginx nginx-common nginx-core\n",
            "0 upgraded, 20 newly installed, 0 to remove and 0 not upgraded.\n",
            "Need to get 2691 kB of archives.\n",
            "After this operation, 8339 kB of additional disk space will be used.\n",
            "Get:1 http://ap-south-1.ec2.archive.ubuntu.com/ubuntu jammy/main amd64 fonts-dejavu-core all 2.37-2build1 [1041 kB]\n",
            "Get:2 http://ap-south-1.ec2.archive.ubuntu.com/ubuntu jammy/main amd64 fontconfig-config all 2.13.1-4.2ubuntu5 [29.1 kB]\n",
            "Get:3 http://ap-south-1.ec2.archive.ubuntu.com/ubuntu jammy/main amd64 libdeflate0 amd64 1.10-2 [70.9 kB]\n",
            "Get:4 http://ap-south-1.ec2.archive.ubuntu.com/ubuntu jammy/main amd64 libfontconfig1 amd64 2.13.1-4.2ubuntu5 [131 kB]\n",
            "Get:5 http://ap-south-1.ec2.archive.ubuntu.com/ubuntu jammy/main amd64 libjpeg-turbo8 amd64 2.1.2-0ubuntu1 [134 kB]\n",
            "Get:6 http://ap-south-1.ec2.archive.ubuntu.com/ubuntu jammy/main amd64 libjpeg8 amd64 8c-2ubuntu10 [2264 B]\n",
            "Get:7 http://ap-south-1.ec2.archive.ubuntu.com/ubuntu jammy-updates/main amd64 libjbig0 amd64 2.1-3.1ubuntu0.22.04.1 [29.2 kB]\n",
            "Get:8 http://ap-south-1.ec2.archive.ubuntu.com/ubuntu jammy-updates/main amd64 libwebp7 amd64 1.2.2-2ubuntu0.22.04.2 [206 kB]\n",
            "Ign:9 http://ap-south-1.ec2.archive.ubuntu.com/ubuntu jammy-updates/main amd64 libtiff5 amd64 4.3.0-6ubuntu0.5\n",
            "Ign:10 http://ap-south-1.ec2.archive.ubuntu.com/ubuntu jammy-updates/main amd64 libxpm4 amd64 1:3.5.12-1ubuntu0.22.04.1\n",
            "Get:11 http://ap-south-1.ec2.archive.ubuntu.com/ubuntu jammy/main amd64 libgd3 amd64 2.3.0-2ubuntu2 [129 kB]\n",
            "Get:12 http://ap-south-1.ec2.archive.ubuntu.com/ubuntu jammy-updates/main amd64 nginx-common all 1.18.0-6ubuntu14.4 [40.0 kB]\n",
            "Get:13 http://ap-south-1.ec2.archive.ubuntu.com/ubuntu jammy-updates/main amd64 libnginx-mod-http-geoip2 amd64 1.18.0-6ubuntu14.4 [11.9 kB]\n",
            "Get:14 http://ap-south-1.ec2.archive.ubuntu.com/ubuntu jammy-updates/main amd64 libnginx-mod-http-image-filter amd64 1.18.0-6ubuntu14.4 [15.4 kB]\n",
            "Get:15 http://ap-south-1.ec2.archive.ubuntu.com/ubuntu jammy-updates/main amd64 libnginx-mod-http-xslt-filter amd64 1.18.0-6ubuntu14.4 [13.7 kB]\n",
            "Get:16 http://ap-south-1.ec2.archive.ubuntu.com/ubuntu jammy-updates/main amd64 libnginx-mod-mail amd64 1.18.0-6ubuntu14.4 [45.7 kB]\n",
            "Get:17 http://ap-south-1.ec2.archive.ubuntu.com/ubuntu jammy-updates/main amd64 libnginx-mod-stream amd64 1.18.0-6ubuntu14.4 [72.9 kB]\n",
            "Get:18 http://ap-south-1.ec2.archive.ubuntu.com/ubuntu jammy-updates/main amd64 libnginx-mod-stream-geoip2 amd64 1.18.0-6ubuntu14.4 [10.1 kB]\n",
            "Get:19 http://ap-south-1.ec2.archive.ubuntu.com/ubuntu jammy-updates/main amd64 nginx-core amd64 1.18.0-6ubuntu14.4 [484 kB]\n",
            "Get:20 http://ap-south-1.ec2.archive.ubuntu.com/ubuntu jammy-updates/main amd64 nginx amd64 1.18.0-6ubuntu14.4 [3872 B]\n",
            "Err:9 http://security.ubuntu.com/ubuntu jammy-updates/main amd64 libtiff5 amd64 4.3.0-6ubuntu0.5\n",
            "  404  Not Found [IP: 13.233.101.120 80]\n",
            "Err:10 http://security.ubuntu.com/ubuntu jammy-updates/main amd64 libxpm4 amd64 1:3.5.12-1ubuntu0.22.04.1\n",
            "  404  Not Found [IP: 13.233.101.120 80]\n",
            "Fetched 2471 kB in 1s (1905 kB/s)\n",
            "\n",
            "Command Error for 'sudo apt-get install nginx -y':\n",
            "E: Failed to fetch http://security.ubuntu.com/ubuntu/pool/main/t/tiff/libtiff5_4.3.0-6ubuntu0.5_amd64.deb  404  Not Found [IP: 13.233.101.120 80]\n",
            "E: Failed to fetch http://security.ubuntu.com/ubuntu/pool/main/libx/libxpm/libxpm4_3.5.12-1ubuntu0.22.04.1_amd64.deb  404  Not Found [IP: 13.233.101.120 80]\n",
            "E: Unable to fetch some archives, maybe run apt-get update or try with --fix-missing?\n",
            "\n",
            "Command Output for 'sudo systemctl enable nginx':\n",
            "\n",
            "Command Error for 'sudo systemctl enable nginx':\n",
            "Failed to enable unit: Unit file nginx.service does not exist.\n",
            "\n",
            "Command Output for 'sudo systemctl start nginx':\n",
            "\n",
            "Command Error for 'sudo systemctl start nginx':\n",
            "Failed to start nginx.service: Unit nginx.service not found.\n",
            "\n",
            "Command Output for 'sudo systemctl status nginx':\n",
            "\n",
            "Command Error for 'sudo systemctl status nginx':\n",
            "Unit nginx.service could not be found.\n",
            "\n",
            "Command Output for 'sudo apt-get update':\n",
            "Hit:1 http://ap-south-1.ec2.archive.ubuntu.com/ubuntu jammy InRelease\n",
            "Get:2 http://ap-south-1.ec2.archive.ubuntu.com/ubuntu jammy-updates InRelease [119 kB]\n",
            "Get:3 http://ap-south-1.ec2.archive.ubuntu.com/ubuntu jammy-backports InRelease [109 kB]\n",
            "Get:4 http://ap-south-1.ec2.archive.ubuntu.com/ubuntu jammy/universe amd64 Packages [14.1 MB]\n",
            "Get:5 http://security.ubuntu.com/ubuntu jammy-security InRelease [110 kB]\n",
            "Get:6 http://ap-south-1.ec2.archive.ubuntu.com/ubuntu jammy/universe Translation-en [5652 kB]\n",
            "Get:7 http://ap-south-1.ec2.archive.ubuntu.com/ubuntu jammy/universe amd64 c-n-f Metadata [286 kB]\n",
            "Get:8 http://ap-south-1.ec2.archive.ubuntu.com/ubuntu jammy/multiverse amd64 Packages [217 kB]\n",
            "Get:9 http://ap-south-1.ec2.archive.ubuntu.com/ubuntu jammy/multiverse Translation-en [112 kB]\n",
            "Get:10 http://ap-south-1.ec2.archive.ubuntu.com/ubuntu jammy/multiverse amd64 c-n-f Metadata [8372 B]\n",
            "Get:11 http://ap-south-1.ec2.archive.ubuntu.com/ubuntu jammy-updates/main amd64 Packages [1263 kB]\n",
            "Get:12 http://ap-south-1.ec2.archive.ubuntu.com/ubuntu jammy-updates/main Translation-en [260 kB]\n",
            "Get:13 http://ap-south-1.ec2.archive.ubuntu.com/ubuntu jammy-updates/main amd64 c-n-f Metadata [16.1 kB]\n",
            "Get:14 http://ap-south-1.ec2.archive.ubuntu.com/ubuntu jammy-updates/restricted amd64 Packages [1250 kB]\n",
            "Get:15 http://ap-south-1.ec2.archive.ubuntu.com/ubuntu jammy-updates/restricted Translation-en [203 kB]\n",
            "Get:16 http://ap-south-1.ec2.archive.ubuntu.com/ubuntu jammy-updates/restricted amd64 c-n-f Metadata [520 B]\n",
            "Get:17 http://ap-south-1.ec2.archive.ubuntu.com/ubuntu jammy-updates/universe amd64 Packages [1019 kB]\n",
            "Get:18 http://ap-south-1.ec2.archive.ubuntu.com/ubuntu jammy-updates/universe Translation-en [226 kB]\n",
            "Get:19 http://ap-south-1.ec2.archive.ubuntu.com/ubuntu jammy-updates/universe amd64 c-n-f Metadata [22.1 kB]\n",
            "Get:20 http://ap-south-1.ec2.archive.ubuntu.com/ubuntu jammy-updates/multiverse amd64 Packages [41.6 kB]\n",
            "Get:21 http://ap-south-1.ec2.archive.ubuntu.com/ubuntu jammy-updates/multiverse Translation-en [9768 B]\n",
            "Get:22 http://ap-south-1.ec2.archive.ubuntu.com/ubuntu jammy-updates/multiverse amd64 c-n-f Metadata [472 B]\n",
            "Get:23 http://ap-south-1.ec2.archive.ubuntu.com/ubuntu jammy-backports/main amd64 Packages [41.7 kB]\n",
            "Get:24 http://ap-south-1.ec2.archive.ubuntu.com/ubuntu jammy-backports/main Translation-en [10.5 kB]\n",
            "Get:25 http://ap-south-1.ec2.archive.ubuntu.com/ubuntu jammy-backports/main amd64 c-n-f Metadata [388 B]\n",
            "Get:26 http://ap-south-1.ec2.archive.ubuntu.com/ubuntu jammy-backports/restricted amd64 c-n-f Metadata [116 B]\n",
            "Get:27 http://ap-south-1.ec2.archive.ubuntu.com/ubuntu jammy-backports/universe amd64 Packages [24.3 kB]\n",
            "Get:28 http://ap-south-1.ec2.archive.ubuntu.com/ubuntu jammy-backports/universe Translation-en [16.5 kB]\n",
            "Get:29 http://ap-south-1.ec2.archive.ubuntu.com/ubuntu jammy-backports/universe amd64 c-n-f Metadata [644 B]\n",
            "Get:30 http://ap-south-1.ec2.archive.ubuntu.com/ubuntu jammy-backports/multiverse amd64 c-n-f Metadata [116 B]\n",
            "Get:31 http://security.ubuntu.com/ubuntu jammy-security/main amd64 Packages [1051 kB]\n",
            "Get:32 http://security.ubuntu.com/ubuntu jammy-security/main Translation-en [200 kB]\n",
            "Get:33 http://security.ubuntu.com/ubuntu jammy-security/main amd64 c-n-f Metadata [11.4 kB]\n",
            "Get:34 http://security.ubuntu.com/ubuntu jammy-security/restricted amd64 Packages [1226 kB]\n",
            "Get:35 http://security.ubuntu.com/ubuntu jammy-security/restricted Translation-en [200 kB]\n",
            "Get:36 http://security.ubuntu.com/ubuntu jammy-security/restricted amd64 c-n-f Metadata [520 B]\n",
            "Get:37 http://security.ubuntu.com/ubuntu jammy-security/universe amd64 Packages [823 kB]\n",
            "Get:38 http://security.ubuntu.com/ubuntu jammy-security/universe Translation-en [156 kB]\n",
            "Get:39 http://security.ubuntu.com/ubuntu jammy-security/universe amd64 c-n-f Metadata [16.8 kB]\n",
            "Get:40 http://security.ubuntu.com/ubuntu jammy-security/multiverse amd64 Packages [36.5 kB]\n",
            "Get:41 http://security.ubuntu.com/ubuntu jammy-security/multiverse Translation-en [7060 B]\n",
            "Get:42 http://security.ubuntu.com/ubuntu jammy-security/multiverse amd64 c-n-f Metadata [260 B]\n",
            "Fetched 28.8 MB in 5s (5452 kB/s)\n",
            "Reading package lists...\n",
            "\n",
            "Command Error for 'sudo apt-get update':\n",
            "\n",
            "Command Output for 'sudo apt-get install -y mysql-server mysql-client':\n",
            "Reading package lists...\n",
            "Building dependency tree...\n",
            "Reading state information...\n",
            "The following additional packages will be installed:\n",
            "  libcgi-fast-perl libcgi-pm-perl libclone-perl libencode-locale-perl\n",
            "  libevent-pthreads-2.1-7 libfcgi-bin libfcgi-perl libfcgi0ldbl\n",
            "  libhtml-parser-perl libhtml-tagset-perl libhtml-template-perl\n",
            "  libhttp-date-perl libhttp-message-perl libio-html-perl\n",
            "  liblwp-mediatypes-perl libmecab2 libprotobuf-lite23 libtimedate-perl\n",
            "  liburi-perl mecab-ipadic mecab-ipadic-utf8 mecab-utils mysql-client-8.0\n",
            "  mysql-client-core-8.0 mysql-common mysql-server-8.0 mysql-server-core-8.0\n",
            "Suggested packages:\n",
            "  libdata-dump-perl libipc-sharedcache-perl libbusiness-isbn-perl libwww-perl\n",
            "  mailx tinyca\n",
            "The following NEW packages will be installed:\n",
            "  libcgi-fast-perl libcgi-pm-perl libclone-perl libencode-locale-perl\n",
            "  libevent-pthreads-2.1-7 libfcgi-bin libfcgi-perl libfcgi0ldbl\n",
            "  libhtml-parser-perl libhtml-tagset-perl libhtml-template-perl\n",
            "  libhttp-date-perl libhttp-message-perl libio-html-perl\n",
            "  liblwp-mediatypes-perl libmecab2 libprotobuf-lite23 libtimedate-perl\n",
            "  liburi-perl mecab-ipadic mecab-ipadic-utf8 mecab-utils mysql-client\n",
            "  mysql-client-8.0 mysql-client-core-8.0 mysql-common mysql-server\n",
            "  mysql-server-8.0 mysql-server-core-8.0\n",
            "0 upgraded, 29 newly installed, 0 to remove and 86 not upgraded.\n",
            "Need to get 29.6 MB of archives.\n",
            "After this operation, 243 MB of additional disk space will be used.\n",
            "Get:1 http://ap-south-1.ec2.archive.ubuntu.com/ubuntu jammy/main amd64 mysql-common all 5.8+1.0.8 [7212 B]\n",
            "Get:2 http://ap-south-1.ec2.archive.ubuntu.com/ubuntu jammy-updates/main amd64 mysql-client-core-8.0 amd64 8.0.35-0ubuntu0.22.04.1 [2682 kB]\n",
            "Get:3 http://ap-south-1.ec2.archive.ubuntu.com/ubuntu jammy-updates/main amd64 mysql-client-8.0 amd64 8.0.35-0ubuntu0.22.04.1 [22.7 kB]\n",
            "Get:4 http://ap-south-1.ec2.archive.ubuntu.com/ubuntu jammy/main amd64 libevent-pthreads-2.1-7 amd64 2.1.12-stable-1build3 [7642 B]\n",
            "Get:5 http://ap-south-1.ec2.archive.ubuntu.com/ubuntu jammy/main amd64 libmecab2 amd64 0.996-14build9 [199 kB]\n",
            "Get:6 http://ap-south-1.ec2.archive.ubuntu.com/ubuntu jammy-updates/main amd64 libprotobuf-lite23 amd64 3.12.4-1ubuntu7.22.04.1 [209 kB]\n",
            "Get:7 http://ap-south-1.ec2.archive.ubuntu.com/ubuntu jammy-updates/main amd64 mysql-server-core-8.0 amd64 8.0.35-0ubuntu0.22.04.1 [17.6 MB]\n",
            "Get:8 http://ap-south-1.ec2.archive.ubuntu.com/ubuntu jammy-updates/main amd64 mysql-server-8.0 amd64 8.0.35-0ubuntu0.22.04.1 [1438 kB]\n",
            "Get:9 http://ap-south-1.ec2.archive.ubuntu.com/ubuntu jammy/main amd64 libhtml-tagset-perl all 3.20-4 [12.5 kB]\n",
            "Get:10 http://ap-south-1.ec2.archive.ubuntu.com/ubuntu jammy/main amd64 liburi-perl all 5.10-1 [78.8 kB]\n",
            "Get:11 http://ap-south-1.ec2.archive.ubuntu.com/ubuntu jammy/main amd64 libhtml-parser-perl amd64 3.76-1build2 [88.4 kB]\n",
            "Get:12 http://ap-south-1.ec2.archive.ubuntu.com/ubuntu jammy/main amd64 libcgi-pm-perl all 4.54-1 [188 kB]\n",
            "Get:13 http://ap-south-1.ec2.archive.ubuntu.com/ubuntu jammy/main amd64 libfcgi0ldbl amd64 2.4.2-2build2 [28.0 kB]\n",
            "Get:14 http://ap-south-1.ec2.archive.ubuntu.com/ubuntu jammy/main amd64 libfcgi-perl amd64 0.82+ds-1build1 [22.8 kB]\n",
            "Get:15 http://ap-south-1.ec2.archive.ubuntu.com/ubuntu jammy/main amd64 libcgi-fast-perl all 1:2.15-1 [10.5 kB]\n",
            "Get:16 http://ap-south-1.ec2.archive.ubuntu.com/ubuntu jammy/main amd64 libclone-perl amd64 0.45-1build3 [11.0 kB]\n",
            "Get:17 http://ap-south-1.ec2.archive.ubuntu.com/ubuntu jammy/main amd64 libencode-locale-perl all 1.05-1.1 [11.8 kB]\n",
            "Get:18 http://ap-south-1.ec2.archive.ubuntu.com/ubuntu jammy/main amd64 libfcgi-bin amd64 2.4.2-2build2 [11.2 kB]\n",
            "Get:19 http://ap-south-1.ec2.archive.ubuntu.com/ubuntu jammy/main amd64 libhtml-template-perl all 2.97-1.1 [59.1 kB]\n",
            "Get:20 http://ap-south-1.ec2.archive.ubuntu.com/ubuntu jammy/main amd64 libtimedate-perl all 2.3300-2 [34.0 kB]\n",
            "Get:21 http://ap-south-1.ec2.archive.ubuntu.com/ubuntu jammy/main amd64 libhttp-date-perl all 6.05-1 [9920 B]\n",
            "Get:22 http://ap-south-1.ec2.archive.ubuntu.com/ubuntu jammy/main amd64 libio-html-perl all 1.004-2 [15.4 kB]\n",
            "Get:23 http://ap-south-1.ec2.archive.ubuntu.com/ubuntu jammy/main amd64 liblwp-mediatypes-perl all 6.04-1 [19.5 kB]\n",
            "Get:24 http://ap-south-1.ec2.archive.ubuntu.com/ubuntu jammy/main amd64 libhttp-message-perl all 6.36-1 [76.8 kB]\n",
            "Get:25 http://ap-south-1.ec2.archive.ubuntu.com/ubuntu jammy/main amd64 mecab-utils amd64 0.996-14build9 [4850 B]\n",
            "Get:26 http://ap-south-1.ec2.archive.ubuntu.com/ubuntu jammy/main amd64 mecab-ipadic all 2.7.0-20070801+main-3 [6718 kB]\n",
            "Get:27 http://ap-south-1.ec2.archive.ubuntu.com/ubuntu jammy/main amd64 mecab-ipadic-utf8 all 2.7.0-20070801+main-3 [4384 B]\n",
            "Get:28 http://ap-south-1.ec2.archive.ubuntu.com/ubuntu jammy-updates/main amd64 mysql-client all 8.0.35-0ubuntu0.22.04.1 [9354 B]\n",
            "Get:29 http://ap-south-1.ec2.archive.ubuntu.com/ubuntu jammy-updates/main amd64 mysql-server all 8.0.35-0ubuntu0.22.04.1 [9464 B]\n",
            "Fetched 29.6 MB in 1s (57.7 MB/s)\n",
            "Selecting previously unselected package mysql-common.\n",
            "(Reading database ... 64726 files and directories currently installed.)\n",
            "Preparing to unpack .../0-mysql-common_5.8+1.0.8_all.deb ...\n",
            "Unpacking mysql-common (5.8+1.0.8) ...\n",
            "Selecting previously unselected package mysql-client-core-8.0.\n",
            "Preparing to unpack .../1-mysql-client-core-8.0_8.0.35-0ubuntu0.22.04.1_amd64.deb ...\n",
            "Unpacking mysql-client-core-8.0 (8.0.35-0ubuntu0.22.04.1) ...\n",
            "Selecting previously unselected package mysql-client-8.0.\n",
            "Preparing to unpack .../2-mysql-client-8.0_8.0.35-0ubuntu0.22.04.1_amd64.deb ...\n",
            "Unpacking mysql-client-8.0 (8.0.35-0ubuntu0.22.04.1) ...\n",
            "Selecting previously unselected package libevent-pthreads-2.1-7:amd64.\n",
            "Preparing to unpack .../3-libevent-pthreads-2.1-7_2.1.12-stable-1build3_amd64.deb ...\n",
            "Unpacking libevent-pthreads-2.1-7:amd64 (2.1.12-stable-1build3) ...\n",
            "Selecting previously unselected package libmecab2:amd64.\n",
            "Preparing to unpack .../4-libmecab2_0.996-14build9_amd64.deb ...\n",
            "Unpacking libmecab2:amd64 (0.996-14build9) ...\n",
            "Selecting previously unselected package libprotobuf-lite23:amd64.\n",
            "Preparing to unpack .../5-libprotobuf-lite23_3.12.4-1ubuntu7.22.04.1_amd64.deb ...\n",
            "Unpacking libprotobuf-lite23:amd64 (3.12.4-1ubuntu7.22.04.1) ...\n",
            "Selecting previously unselected package mysql-server-core-8.0.\n",
            "Preparing to unpack .../6-mysql-server-core-8.0_8.0.35-0ubuntu0.22.04.1_amd64.deb ...\n",
            "Unpacking mysql-server-core-8.0 (8.0.35-0ubuntu0.22.04.1) ...\n",
            "Setting up mysql-common (5.8+1.0.8) ...\n",
            "update-alternatives: using /etc/mysql/my.cnf.fallback to provide /etc/mysql/my.cnf (my.cnf) in auto mode\n",
            "Selecting previously unselected package mysql-server-8.0.\n",
            "(Reading database ... 64940 files and directories currently installed.)\n",
            "Preparing to unpack .../00-mysql-server-8.0_8.0.35-0ubuntu0.22.04.1_amd64.deb ...\n",
            "debconf: unable to initialize frontend: Dialog\n",
            "debconf: (Dialog frontend will not work on a dumb terminal, an emacs shell buffer, or without a controlling terminal.)\n",
            "debconf: falling back to frontend: Readline\n",
            "Unpacking mysql-server-8.0 (8.0.35-0ubuntu0.22.04.1) ...\n",
            "Selecting previously unselected package libhtml-tagset-perl.\n",
            "Preparing to unpack .../01-libhtml-tagset-perl_3.20-4_all.deb ...\n",
            "Unpacking libhtml-tagset-perl (3.20-4) ...\n",
            "Selecting previously unselected package liburi-perl.\n",
            "Preparing to unpack .../02-liburi-perl_5.10-1_all.deb ...\n",
            "Unpacking liburi-perl (5.10-1) ...\n",
            "Selecting previously unselected package libhtml-parser-perl:amd64.\n",
            "Preparing to unpack .../03-libhtml-parser-perl_3.76-1build2_amd64.deb ...\n",
            "Unpacking libhtml-parser-perl:amd64 (3.76-1build2) ...\n",
            "Selecting previously unselected package libcgi-pm-perl.\n",
            "Preparing to unpack .../04-libcgi-pm-perl_4.54-1_all.deb ...\n",
            "Unpacking libcgi-pm-perl (4.54-1) ...\n",
            "Selecting previously unselected package libfcgi0ldbl:amd64.\n",
            "Preparing to unpack .../05-libfcgi0ldbl_2.4.2-2build2_amd64.deb ...\n",
            "Unpacking libfcgi0ldbl:amd64 (2.4.2-2build2) ...\n",
            "Selecting previously unselected package libfcgi-perl:amd64.\n",
            "Preparing to unpack .../06-libfcgi-perl_0.82+ds-1build1_amd64.deb ...\n",
            "Unpacking libfcgi-perl:amd64 (0.82+ds-1build1) ...\n",
            "Selecting previously unselected package libcgi-fast-perl.\n",
            "Preparing to unpack .../07-libcgi-fast-perl_1%3a2.15-1_all.deb ...\n",
            "Unpacking libcgi-fast-perl (1:2.15-1) ...\n",
            "Selecting previously unselected package libclone-perl.\n",
            "Preparing to unpack .../08-libclone-perl_0.45-1build3_amd64.deb ...\n",
            "Unpacking libclone-perl (0.45-1build3) ...\n",
            "Selecting previously unselected package libencode-locale-perl.\n",
            "Preparing to unpack .../09-libencode-locale-perl_1.05-1.1_all.deb ...\n",
            "Unpacking libencode-locale-perl (1.05-1.1) ...\n",
            "Selecting previously unselected package libfcgi-bin.\n",
            "Preparing to unpack .../10-libfcgi-bin_2.4.2-2build2_amd64.deb ...\n",
            "Unpacking libfcgi-bin (2.4.2-2build2) ...\n",
            "Selecting previously unselected package libhtml-template-perl.\n",
            "Preparing to unpack .../11-libhtml-template-perl_2.97-1.1_all.deb ...\n",
            "Unpacking libhtml-template-perl (2.97-1.1) ...\n",
            "Selecting previously unselected package libtimedate-perl.\n",
            "Preparing to unpack .../12-libtimedate-perl_2.3300-2_all.deb ...\n",
            "Unpacking libtimedate-perl (2.3300-2) ...\n",
            "Selecting previously unselected package libhttp-date-perl.\n",
            "Preparing to unpack .../13-libhttp-date-perl_6.05-1_all.deb ...\n",
            "Unpacking libhttp-date-perl (6.05-1) ...\n",
            "Selecting previously unselected package libio-html-perl.\n",
            "Preparing to unpack .../14-libio-html-perl_1.004-2_all.deb ...\n",
            "Unpacking libio-html-perl (1.004-2) ...\n",
            "Selecting previously unselected package liblwp-mediatypes-perl.\n",
            "Preparing to unpack .../15-liblwp-mediatypes-perl_6.04-1_all.deb ...\n",
            "Unpacking liblwp-mediatypes-perl (6.04-1) ...\n",
            "Selecting previously unselected package libhttp-message-perl.\n",
            "Preparing to unpack .../16-libhttp-message-perl_6.36-1_all.deb ...\n",
            "Unpacking libhttp-message-perl (6.36-1) ...\n",
            "Selecting previously unselected package mecab-utils.\n",
            "Preparing to unpack .../17-mecab-utils_0.996-14build9_amd64.deb ...\n",
            "Unpacking mecab-utils (0.996-14build9) ...\n",
            "Selecting previously unselected package mecab-ipadic.\n",
            "Preparing to unpack .../18-mecab-ipadic_2.7.0-20070801+main-3_all.deb ...\n",
            "Unpacking mecab-ipadic (2.7.0-20070801+main-3) ...\n",
            "Selecting previously unselected package mecab-ipadic-utf8.\n",
            "Preparing to unpack .../19-mecab-ipadic-utf8_2.7.0-20070801+main-3_all.deb ...\n",
            "Unpacking mecab-ipadic-utf8 (2.7.0-20070801+main-3) ...\n",
            "Selecting previously unselected package mysql-client.\n",
            "Preparing to unpack .../20-mysql-client_8.0.35-0ubuntu0.22.04.1_all.deb ...\n",
            "Unpacking mysql-client (8.0.35-0ubuntu0.22.04.1) ...\n",
            "Selecting previously unselected package mysql-server.\n",
            "Preparing to unpack .../21-mysql-server_8.0.35-0ubuntu0.22.04.1_all.deb ...\n",
            "Unpacking mysql-server (8.0.35-0ubuntu0.22.04.1) ...\n",
            "Setting up libmecab2:amd64 (0.996-14build9) ...\n",
            "Setting up mysql-client-core-8.0 (8.0.35-0ubuntu0.22.04.1) ...\n",
            "Setting up libfcgi0ldbl:amd64 (2.4.2-2build2) ...\n",
            "Setting up libclone-perl (0.45-1build3) ...\n",
            "Setting up libhtml-tagset-perl (3.20-4) ...\n",
            "Setting up liblwp-mediatypes-perl (6.04-1) ...\n",
            "Setting up libfcgi-bin (2.4.2-2build2) ...\n",
            "Setting up libencode-locale-perl (1.05-1.1) ...\n",
            "Setting up libprotobuf-lite23:amd64 (3.12.4-1ubuntu7.22.04.1) ...\n",
            "Setting up mecab-utils (0.996-14build9) ...\n",
            "Setting up libio-html-perl (1.004-2) ...\n",
            "Setting up libtimedate-perl (2.3300-2) ...\n",
            "Setting up mysql-client-8.0 (8.0.35-0ubuntu0.22.04.1) ...\n",
            "Setting up libfcgi-perl:amd64 (0.82+ds-1build1) ...\n",
            "Setting up liburi-perl (5.10-1) ...\n",
            "Setting up libevent-pthreads-2.1-7:amd64 (2.1.12-stable-1build3) ...\n",
            "Setting up libhttp-date-perl (6.05-1) ...\n",
            "Setting up mysql-client (8.0.35-0ubuntu0.22.04.1) ...\n",
            "Setting up mecab-ipadic (2.7.0-20070801+main-3) ...\n",
            "Compiling IPA dictionary for Mecab.  This takes long time...\n",
            "reading /usr/share/mecab/dic/ipadic/unk.def ... 40\n",
            "emitting double-array: 100% |###########################################| \n",
            "/usr/share/mecab/dic/ipadic/model.def is not found. skipped.\n",
            "reading /usr/share/mecab/dic/ipadic/Auxil.csv ... 199\n",
            "reading /usr/share/mecab/dic/ipadic/Noun.verbal.csv ... 12146\n",
            "reading /usr/share/mecab/dic/ipadic/Adj.csv ... 27210\n",
            "reading /usr/share/mecab/dic/ipadic/Conjunction.csv ... 171\n",
            "reading /usr/share/mecab/dic/ipadic/Noun.place.csv ... 72999\n",
            "reading /usr/share/mecab/dic/ipadic/Interjection.csv ... 252\n",
            "reading /usr/share/mecab/dic/ipadic/Noun.nai.csv ... 42\n",
            "reading /usr/share/mecab/dic/ipadic/Adverb.csv ... 3032\n",
            "reading /usr/share/mecab/dic/ipadic/Noun.name.csv ... 34202\n",
            "reading /usr/share/mecab/dic/ipadic/Postp.csv ... 146\n",
            "reading /usr/share/mecab/dic/ipadic/Others.csv ... 2\n",
            "reading /usr/share/mecab/dic/ipadic/Noun.org.csv ... 16668\n",
            "reading /usr/share/mecab/dic/ipadic/Postp-col.csv ... 91\n",
            "reading /usr/share/mecab/dic/ipadic/Noun.number.csv ... 42\n",
            "reading /usr/share/mecab/dic/ipadic/Noun.proper.csv ... 27328\n",
            "reading /usr/share/mecab/dic/ipadic/Verb.csv ... 130750\n",
            "reading /usr/share/mecab/dic/ipadic/Noun.adverbal.csv ... 795\n",
            "reading /usr/share/mecab/dic/ipadic/Filler.csv ... 19\n",
            "reading /usr/share/mecab/dic/ipadic/Prefix.csv ... 221\n",
            "reading /usr/share/mecab/dic/ipadic/Noun.adjv.csv ... 3328\n",
            "reading /usr/share/mecab/dic/ipadic/Noun.csv ... 60477\n",
            "reading /usr/share/mecab/dic/ipadic/Suffix.csv ... 1393\n",
            "reading /usr/share/mecab/dic/ipadic/Adnominal.csv ... 135\n",
            "reading /usr/share/mecab/dic/ipadic/Noun.demonst.csv ... 120\n",
            "reading /usr/share/mecab/dic/ipadic/Symbol.csv ... 208\n",
            "reading /usr/share/mecab/dic/ipadic/Noun.others.csv ... 151\n",
            "emitting double-array: 100% |###########################################| \n",
            "reading /usr/share/mecab/dic/ipadic/matrix.def ... 1316x1316\n",
            "emitting matrix      : 100% |###########################################| \n",
            "\n",
            "done!\n",
            "update-alternatives: using /var/lib/mecab/dic/ipadic to provide /var/lib/mecab/dic/debian (mecab-dictionary) in auto mode\n",
            "Setting up mysql-server-core-8.0 (8.0.35-0ubuntu0.22.04.1) ...\n",
            "Setting up mecab-ipadic-utf8 (2.7.0-20070801+main-3) ...\n",
            "Compiling IPA dictionary for Mecab.  This takes long time...\n",
            "reading /usr/share/mecab/dic/ipadic/unk.def ... 40\n",
            "emitting double-array: 100% |###########################################| \n",
            "/usr/share/mecab/dic/ipadic/model.def is not found. skipped.\n",
            "reading /usr/share/mecab/dic/ipadic/Auxil.csv ... 199\n",
            "reading /usr/share/mecab/dic/ipadic/Noun.verbal.csv ... 12146\n",
            "reading /usr/share/mecab/dic/ipadic/Adj.csv ... 27210\n",
            "reading /usr/share/mecab/dic/ipadic/Conjunction.csv ... 171\n",
            "reading /usr/share/mecab/dic/ipadic/Noun.place.csv ... 72999\n",
            "reading /usr/share/mecab/dic/ipadic/Interjection.csv ... 252\n",
            "reading /usr/share/mecab/dic/ipadic/Noun.nai.csv ... 42\n",
            "reading /usr/share/mecab/dic/ipadic/Adverb.csv ... 3032\n",
            "reading /usr/share/mecab/dic/ipadic/Noun.name.csv ... 34202\n",
            "reading /usr/share/mecab/dic/ipadic/Postp.csv ... 146\n",
            "reading /usr/share/mecab/dic/ipadic/Others.csv ... 2\n",
            "reading /usr/share/mecab/dic/ipadic/Noun.org.csv ... 16668\n",
            "reading /usr/share/mecab/dic/ipadic/Postp-col.csv ... 91\n",
            "reading /usr/share/mecab/dic/ipadic/Noun.number.csv ... 42\n",
            "reading /usr/share/mecab/dic/ipadic/Noun.proper.csv ... 27328\n",
            "reading /usr/share/mecab/dic/ipadic/Verb.csv ... 130750\n",
            "reading /usr/share/mecab/dic/ipadic/Noun.adverbal.csv ... 795\n",
            "reading /usr/share/mecab/dic/ipadic/Filler.csv ... 19\n",
            "reading /usr/share/mecab/dic/ipadic/Prefix.csv ... 221\n",
            "reading /usr/share/mecab/dic/ipadic/Noun.adjv.csv ... 3328\n",
            "reading /usr/share/mecab/dic/ipadic/Noun.csv ... 60477\n",
            "reading /usr/share/mecab/dic/ipadic/Suffix.csv ... 1393\n",
            "reading /usr/share/mecab/dic/ipadic/Adnominal.csv ... 135\n",
            "reading /usr/share/mecab/dic/ipadic/Noun.demonst.csv ... 120\n",
            "reading /usr/share/mecab/dic/ipadic/Symbol.csv ... 208\n",
            "reading /usr/share/mecab/dic/ipadic/Noun.others.csv ... 151\n",
            "emitting double-array: 100% |###########################################| \n",
            "reading /usr/share/mecab/dic/ipadic/matrix.def ... 1316x1316\n",
            "emitting matrix      : 100% |###########################################| \n",
            "\n",
            "done!\n",
            "update-alternatives: using /var/lib/mecab/dic/ipadic-utf8 to provide /var/lib/mecab/dic/debian (mecab-dictionary) in auto mode\n",
            "Setting up libhtml-parser-perl:amd64 (3.76-1build2) ...\n",
            "Setting up libhttp-message-perl (6.36-1) ...\n",
            "Setting up mysql-server-8.0 (8.0.35-0ubuntu0.22.04.1) ...\n",
            "debconf: unable to initialize frontend: Dialog\n",
            "debconf: (Dialog frontend will not work on a dumb terminal, an emacs shell buffer, or without a controlling terminal.)\n",
            "debconf: falling back to frontend: Readline\n",
            "update-alternatives: using /etc/mysql/mysql.cnf to provide /etc/mysql/my.cnf (my.cnf) in auto mode\n",
            "Renaming removed key_buffer and myisam-recover options (if present)\n",
            "mysqld will log errors to /var/log/mysql/error.log\n",
            "mysqld is running as pid 2182\n",
            "Created symlink /etc/systemd/system/multi-user.target.wants/mysql.service → /lib/systemd/system/mysql.service.\n",
            "Setting up libcgi-pm-perl (4.54-1) ...\n",
            "Setting up libhtml-template-perl (2.97-1.1) ...\n",
            "Setting up mysql-server (8.0.35-0ubuntu0.22.04.1) ...\n",
            "Setting up libcgi-fast-perl (1:2.15-1) ...\n",
            "Processing triggers for man-db (2.10.2-1) ...\n",
            "Processing triggers for libc-bin (2.35-0ubuntu3.3) ...\n",
            "\n",
            "Running kernel seems to be up-to-date.\n",
            "\n",
            "No services need to be restarted.\n",
            "\n",
            "No containers need to be restarted.\n",
            "\n",
            "No user sessions are running outdated binaries.\n",
            "\n",
            "No VM guests are running outdated hypervisor (qemu) binaries on this host.\n",
            "\n",
            "Command Error for 'sudo apt-get install -y mysql-server mysql-client':\n",
            "debconf: unable to initialize frontend: Dialog\n",
            "debconf: (Dialog frontend will not work on a dumb terminal, an emacs shell buffer, or without a controlling terminal.)\n",
            "debconf: falling back to frontend: Readline\n",
            "debconf: unable to initialize frontend: Readline\n",
            "debconf: (This frontend requires a controlling tty.)\n",
            "debconf: falling back to frontend: Teletype\n",
            "dpkg-preconfigure: unable to re-open stdin: \n",
            "\n",
            "Command Output for 'sudo systemctl daemon-reload':\n",
            "\n",
            "Command Error for 'sudo systemctl daemon-reload':\n",
            "\n",
            "Command Output for 'sudo systemctl enable mysql.service':\n",
            "\n",
            "Command Error for 'sudo systemctl enable mysql.service':\n",
            "Synchronizing state of mysql.service with SysV service script with /lib/systemd/systemd-sysv-install.\n",
            "Executing: /lib/systemd/systemd-sysv-install enable mysql\n",
            "\n",
            "Command Output for 'sudo systemctl start mysql.service':\n",
            "\n",
            "Command Error for 'sudo systemctl start mysql.service':\n",
            "\n",
            "Command Output for 'sudo systemctl status mysql.service':\n",
            "● mysql.service - MySQL Community Server\n",
            "     Loaded: loaded (/lib/systemd/system/mysql.service; enabled; vendor preset: enabled)\n",
            "     Active: active (running) since Fri 2023-12-15 15:57:19 UTC; 7s ago\n",
            "   Main PID: 2375 (mysqld)\n",
            "     Status: \"Server is operational\"\n",
            "      Tasks: 38 (limit: 1121)\n",
            "     Memory: 357.6M\n",
            "        CPU: 1.000s\n",
            "     CGroup: /system.slice/mysql.service\n",
            "             └─2375 /usr/sbin/mysqld\n",
            "\n",
            "Dec 15 15:57:18 ip-172-31-4-230 systemd[1]: Starting MySQL Community Server...\n",
            "Dec 15 15:57:19 ip-172-31-4-230 systemd[1]: Started MySQL Community Server.\n",
            "\n",
            "Command Error for 'sudo systemctl status mysql.service':\n",
            "\n",
            "Command Output for 'sudo mysql --version':\n",
            "mysql  Ver 8.0.35-0ubuntu0.22.04.1 for Linux on x86_64 ((Ubuntu))\n",
            "\n",
            "Command Error for 'sudo mysql --version':\n",
            "\n",
            "Command Output for 'sudo mysql -u root -pAdmin@123 -e \"ALTER USER 'root'@'localhost' IDENTIFIED WITH mysql_native_password BY 'Admin@123';\"':\n",
            "\n",
            "Command Error for 'sudo mysql -u root -pAdmin@123 -e \"ALTER USER 'root'@'localhost' IDENTIFIED WITH mysql_native_password BY 'Admin@123';\"':\n",
            "mysql: [Warning] Using a password on the command line interface can be insecure.\n",
            "\n",
            "Command Output for 'sudo mysql -u root -pAdmin@123 -e \"CREATE DATABASE imdb;\"':\n",
            "\n",
            "Command Error for 'sudo mysql -u root -pAdmin@123 -e \"CREATE DATABASE imdb;\"':\n",
            "mysql: [Warning] Using a password on the command line interface can be insecure.\n",
            "\n",
            "Command Output for 'sudo mysql -u root -pAdmin@123 -e \"CREATE USER 'etl' IDENTIFIED BY 'Admin@123';\"':\n",
            "\n",
            "Command Error for 'sudo mysql -u root -pAdmin@123 -e \"CREATE USER 'etl' IDENTIFIED BY 'Admin@123';\"':\n",
            "mysql: [Warning] Using a password on the command line interface can be insecure.\n",
            "\n",
            "Command Output for 'sudo mysql -u root -pAdmin@123 -e \"GRANT ALL PRIVILEGES ON imdb.* TO 'etl';\"':\n",
            "\n",
            "Command Error for 'sudo mysql -u root -pAdmin@123 -e \"GRANT ALL PRIVILEGES ON imdb.* TO 'etl';\"':\n",
            "mysql: [Warning] Using a password on the command line interface can be insecure.\n",
            "\n",
            "Command Output for 'sudo mysql -u root -pAdmin@123 -e \"FLUSH PRIVILEGES;\"':\n",
            "\n",
            "Command Error for 'sudo mysql -u root -pAdmin@123 -e \"FLUSH PRIVILEGES;\"':\n",
            "mysql: [Warning] Using a password on the command line interface can be insecure.\n",
            "\n",
            "Command Output for 'sudo systemctl restart mysql.service':\n",
            "\n",
            "Command Error for 'sudo systemctl restart mysql.service':\n",
            "\n"
          ]
        }
      ],
      "source": [
        "# SSH into the instance (you might need to replace the key file path and username)\n",
        "ssh_client = paramiko.SSHClient()\n",
        "ssh_client.set_missing_host_key_policy(paramiko.AutoAddPolicy())\n",
        "\n",
        "key_file_path = f'{key_pair_name}.pem'\n",
        "ssh_client.connect(instance.public_ip_address, username='ubuntu', key_filename=key_file_path)\n",
        "\n",
        "# Commands to install MySQL server and client, check version, secure installation, and check status\n",
        "#change the sql user password at 'your_sql_user_password'\n",
        "ec2_commands = [\n",
        "    'sudo apt-get upgrade -y',\n",
        "    'sudo apt-get install nginx -y',\n",
        "    'sudo systemctl enable nginx',\n",
        "    'sudo systemctl start nginx',\n",
        "    'sudo systemctl status nginx',\n",
        "    'sudo apt-get update',\n",
        "    'sudo apt-get install -y mysql-server mysql-client',\n",
        "    'sudo systemctl daemon-reload',\n",
        "    'sudo systemctl enable mysql.service',\n",
        "    'sudo systemctl start mysql.service',\n",
        "    'sudo systemctl status mysql.service',\n",
        "    'sudo mysql --version',\n",
        "    'sudo mysql -u root -pyour_sql_user_password -e \"ALTER USER \\'root\\'@\\'localhost\\' IDENTIFIED WITH mysql_native_password BY \\'your_sql_user_password\\';\"',\n",
        "    'sudo mysql -u root -pyour_sql_user_password -e \"CREATE DATABASE imdb;\"',\n",
        "    'sudo mysql -u root -pyour_sql_user_password -e \"CREATE USER \\'etl\\' IDENTIFIED BY \\'your_sql_user_password\\';\"',\n",
        "    'sudo mysql -u root -pyour_sql_user_password -e \"GRANT ALL PRIVILEGES ON imdb.* TO \\'etl\\';\"',\n",
        "    'sudo mysql -u root -pyour_sql_user_password -e \"FLUSH PRIVILEGES;\"',\n",
        "    'sudo systemctl restart mysql.service'\n",
        "\n",
        "]\n",
        "\n",
        "# Execute each command\n",
        "for command in ec2_commands:\n",
        "    stdin, stdout, stderr = ssh_client.exec_command(command)\n",
        "    output = stdout.read().decode('utf-8')\n",
        "    error = stderr.read().decode('utf-8')\n",
        "\n",
        "    # Print the output and error messages\n",
        "    print(f\"Command Output for '{command}':\\n{output}\")\n",
        "    print(f\"Command Error for '{command}':\\n{error}\")\n",
        "\n",
        "# Close the SSH connection\n",
        "ssh_client.close()\n"
      ]
    },
    {
      "cell_type": "markdown",
      "metadata": {
        "id": "CaRMfUqQMI2N"
      },
      "source": [
        "\n",
        "# Delet existance EC2 Instance | security group | key-pair (if needed)"
      ]
    },
    {
      "cell_type": "markdown",
      "metadata": {
        "id": "STHEmWQTMlRo"
      },
      "source": [
        "* Describe EC2 intance with name and id to identify"
      ]
    },
    {
      "cell_type": "code",
      "execution_count": 6,
      "metadata": {
        "colab": {
          "base_uri": "https://localhost:8080/"
        },
        "id": "03hnJD702EnV",
        "outputId": "d883763b-6588-4529-ac20-18a948028996"
      },
      "outputs": [
        {
          "name": "stdout",
          "output_type": "stream",
          "text": [
            "Instance ID: i-0235688ee90ba58ab, Instance Name: Etl_Project_server\n"
          ]
        }
      ],
      "source": [
        "def describe_ec2_instances(aws_access_key, aws_secret_key, aws_region):\n",
        "    try:\n",
        "        # Describe instances\n",
        "        response = ec2_client.describe_instances()\n",
        "\n",
        "        # Extract instance details\n",
        "        instances = []\n",
        "        for reservation in response['Reservations']:\n",
        "            for instance in reservation['Instances']:\n",
        "                instance_id = instance['InstanceId']\n",
        "                instance_name = get_instance_name(instance)\n",
        "                instances.append({\n",
        "                    'InstanceId': instance_id,\n",
        "                    'InstanceName': instance_name,\n",
        "                })\n",
        "\n",
        "        return instances\n",
        "\n",
        "    except Exception as e:\n",
        "        print(f\"Error describing EC2 instances: {e}\")\n",
        "        return []\n",
        "\n",
        "def get_instance_name(instance):\n",
        "    # Attempt to get the instance name from the 'Name' tag\n",
        "    for tag in instance.get('Tags', []):\n",
        "        if tag['Key'] == 'Name':\n",
        "            return tag['Value']\n",
        "\n",
        "    return None\n",
        "\n",
        "instances = describe_ec2_instances(aws_access_key, aws_secret_key, region_name)\n",
        "for instance in instances:\n",
        "    print(f\"Instance ID: {instance['InstanceId']}, Instance Name: {instance['InstanceName']}\")\n",
        "\n"
      ]
    },
    {
      "cell_type": "markdown",
      "metadata": {
        "id": "mTE62wAHM4Kw"
      },
      "source": [
        "\n",
        "* describe all the security group with id and name"
      ]
    },
    {
      "cell_type": "code",
      "execution_count": 7,
      "metadata": {
        "id": "_IiKko3VDsxW"
      },
      "outputs": [],
      "source": [
        "# Create a Security Group object\n",
        "sg_response = ec2_client.describe_security_groups()"
      ]
    },
    {
      "cell_type": "markdown",
      "metadata": {
        "id": "yfpyFMQnJdHi"
      },
      "source": [
        "* Define describe_security_groups Function"
      ]
    },
    {
      "cell_type": "code",
      "execution_count": 8,
      "metadata": {
        "id": "oQOm3CtWCwn-"
      },
      "outputs": [],
      "source": [
        "# Describe all security groups in the region\n",
        "def describe_security_groups(aws_access_key, aws_secret_key, region_name):\n",
        "    try:\n",
        "        # Print details of each security group\n",
        "        for group in sg_response['SecurityGroups']:\n",
        "            print(f\"Security Group ID: {group['GroupId']}, Security Group Name: {group['GroupName']}\")\n",
        "\n",
        "    except Exception as e:\n",
        "        print(f\"Error: {e}\")\n"
      ]
    },
    {
      "cell_type": "code",
      "execution_count": 9,
      "metadata": {
        "colab": {
          "base_uri": "https://localhost:8080/"
        },
        "id": "ptERx5bsJnWw",
        "outputId": "07a6c6bd-bb52-4463-d70f-c3c787bdf3d8"
      },
      "outputs": [
        {
          "name": "stdout",
          "output_type": "stream",
          "text": [
            "Security Group ID: sg-0dae590430548e22c, Security Group Name: default\n",
            "Security Group ID: sg-0bfd1f5b91dd79582, Security Group Name: ETL_SG\n"
          ]
        }
      ],
      "source": [
        "# Function calling\n",
        "describe_security_groups(aws_access_key, aws_secret_key, region_name)"
      ]
    },
    {
      "cell_type": "markdown",
      "metadata": {
        "id": "LaML2MFDNbgH"
      },
      "source": [
        "* declaration of parameters that is used in deleting a EC2, SG and KP\n",
        "\n",
        "* NOTE : Select below parameter carefully"
      ]
    },
    {
      "cell_type": "code",
      "execution_count": 10,
      "metadata": {
        "colab": {
          "base_uri": "https://localhost:8080/"
        },
        "id": "wvbWe7Hbwvl8",
        "outputId": "8671eb9a-94a9-4908-a138-9756db20d304"
      },
      "outputs": [
        {
          "name": "stdout",
          "output_type": "stream",
          "text": [
            "i-0235688ee90ba58ab\n",
            "sg-0bfd1f5b91dd79582\n",
            "ETL_KP\n"
          ]
        }
      ],
      "source": [
        "#Select Instance id which we want to delete\n",
        "instance_id = instances[0]['InstanceId']\n",
        "print(instance_id)\n",
        "\n",
        "#Select security_group_id which we want to delete\n",
        "security_group_id = sg_response['SecurityGroups'][1]['GroupId']\n",
        "print(security_group_id)\n",
        "\n",
        "#Select or enter Keypair name which we want to delete\n",
        "key_pair = key_pair_name\n",
        "print(key_pair)"
      ]
    },
    {
      "cell_type": "markdown",
      "metadata": {
        "id": "Rv3ZbgakOw7f"
      },
      "source": [
        "* Define  delete_ec2_instance Function\n",
        "\n",
        "* Check all the parameter carefully before run the function\n",
        "\n",
        "* NOTE : if Exception occure then it's a Dependancy issue some keypair or SG are connected with other resources. (ignore it)"
      ]
    },
    {
      "cell_type": "code",
      "execution_count": 11,
      "metadata": {
        "id": "kt4c_VKZIDRG"
      },
      "outputs": [],
      "source": [
        "# Delete specific EC2, SG and KP\n",
        "def delete_ec2_instance(instance_id, security_group_id, key_pair_name, aws_access_key, aws_secret_key, aws_region):\n",
        "    try:\n",
        "        # Terminate the EC2 instance\n",
        "        ec2_client.terminate_instances(InstanceIds=[instance_id])\n",
        "        print(f\"EC2 instance with ID '{instance_id}' terminated successfully.\")\n",
        "\n",
        "        # Wait for the instance to be terminated\n",
        "        waiter = ec2_client.get_waiter('instance_terminated')\n",
        "        waiter.wait(InstanceIds=[instance_id])\n",
        "        print(f\"EC2 instance with ID '{instance_id}' is terminated.\")\n",
        "\n",
        "        # Delete the key pair\n",
        "        ec2_client.delete_key_pair(KeyName=key_pair)\n",
        "        print(f\"Key pair with name '{key_pair}' deleted successfully.\")\n",
        "\n",
        "        # Delete the security group\n",
        "        ec2_client.delete_security_group(GroupId=security_group_id)\n",
        "        print(f\"Security group with ID '{security_group_id}' deleted successfully.\")\n",
        "\n",
        "    except Exception as e:\n",
        "        print(f\"Error deleting resources: {e}\")\n"
      ]
    },
    {
      "cell_type": "markdown",
      "metadata": {
        "id": "GTOJvOoyPzAe"
      },
      "source": [
        "* call function delete_ec2_instance"
      ]
    },
    {
      "cell_type": "code",
      "execution_count": 12,
      "metadata": {
        "colab": {
          "base_uri": "https://localhost:8080/"
        },
        "id": "E3MfuYIPPx4o",
        "outputId": "5c606df0-bd9f-4393-bcb8-92d8307c798a"
      },
      "outputs": [
        {
          "name": "stdout",
          "output_type": "stream",
          "text": [
            "EC2 instance with ID 'i-0235688ee90ba58ab' terminated successfully.\n",
            "EC2 instance with ID 'i-0235688ee90ba58ab' is terminated.\n",
            "Key pair with name 'ETL_KP' deleted successfully.\n",
            "Security group with ID 'sg-0bfd1f5b91dd79582' deleted successfully.\n"
          ]
        }
      ],
      "source": [
        "#Function calling\n",
        "delete_ec2_instance(instance_id, security_group_id, key_pair_name, aws_access_key, aws_secret_key, region_name)"
      ]
    }
  ],
  "metadata": {
    "colab": {
      "provenance": []
    },
    "kernelspec": {
      "display_name": "Python 3",
      "name": "python3"
    },
    "language_info": {
      "name": "python"
    }
  },
  "nbformat": 4,
  "nbformat_minor": 0
}
