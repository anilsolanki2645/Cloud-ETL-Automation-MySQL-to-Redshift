{
  "cells": [
    {
      "cell_type": "markdown",
      "metadata": {
        "id": "NZhLxo1jPne1"
      },
      "source": [
        "# Transformation step :\n",
        "* AWS MySQL connection Setup, Data Loading, SQL Transformation, and CSV Export Process to the S3 bucket\n"
      ]
    },
    {
      "cell_type": "markdown",
      "metadata": {
        "id": "r6RObib5OKLZ"
      },
      "source": [
        "* Mounts Google Drive"
      ]
    },
    {
      "cell_type": "code",
      "execution_count": 1,
      "metadata": {
        "colab": {
          "base_uri": "https://localhost:8080/"
        },
        "id": "afLHOQHmoxcI",
        "outputId": "bb2af99b-182d-4b2b-de88-89d21834581d"
      },
      "outputs": [
        {
          "name": "stdout",
          "output_type": "stream",
          "text": [
            "Drive already mounted at /content/drive; to attempt to forcibly remount, call drive.mount(\"/content/drive\", force_remount=True).\n"
          ]
        }
      ],
      "source": [
        "from google.colab import drive\n",
        "drive.mount('/content/drive')"
      ]
    },
    {
      "cell_type": "markdown",
      "metadata": {
        "id": "Qg8lwRnUQJFP"
      },
      "source": [
        "* Installing Required Python Packages: boto3, botocore, mysql-connector-python\n"
      ]
    },
    {
      "cell_type": "code",
      "execution_count": 2,
      "metadata": {
        "colab": {
          "base_uri": "https://localhost:8080/"
        },
        "id": "PTLv8h27Ntnr",
        "outputId": "f64f44d7-baf8-4e55-c0ae-bb41b533f4cb"
      },
      "outputs": [
        {
          "name": "stdout",
          "output_type": "stream",
          "text": [
            "Collecting boto3\n",
            "  Downloading boto3-1.34.1-py3-none-any.whl (139 kB)\n",
            "\u001b[2K     \u001b[90m━━━━━━━━━━━━━━━━━━━━━━━━━━━━━━━━━━━━━━━━\u001b[0m \u001b[32m139.3/139.3 kB\u001b[0m \u001b[31m2.9 MB/s\u001b[0m eta \u001b[36m0:00:00\u001b[0m\n",
            "\u001b[?25hCollecting botocore\n",
            "  Downloading botocore-1.34.1-py3-none-any.whl (11.8 MB)\n",
            "\u001b[2K     \u001b[90m━━━━━━━━━━━━━━━━━━━━━━━━━━━━━━━━━━━━━━━━\u001b[0m \u001b[32m11.8/11.8 MB\u001b[0m \u001b[31m59.4 MB/s\u001b[0m eta \u001b[36m0:00:00\u001b[0m\n",
            "\u001b[?25hCollecting mysql-connector-python\n",
            "  Downloading mysql_connector_python-8.2.0-cp310-cp310-manylinux_2_17_x86_64.whl (31.6 MB)\n",
            "\u001b[2K     \u001b[90m━━━━━━━━━━━━━━━━━━━━━━━━━━━━━━━━━━━━━━━━\u001b[0m \u001b[32m31.6/31.6 MB\u001b[0m \u001b[31m32.8 MB/s\u001b[0m eta \u001b[36m0:00:00\u001b[0m\n",
            "\u001b[?25hCollecting jmespath<2.0.0,>=0.7.1 (from boto3)\n",
            "  Downloading jmespath-1.0.1-py3-none-any.whl (20 kB)\n",
            "Collecting s3transfer<0.10.0,>=0.9.0 (from boto3)\n",
            "  Downloading s3transfer-0.9.0-py3-none-any.whl (82 kB)\n",
            "\u001b[2K     \u001b[90m━━━━━━━━━━━━━━━━━━━━━━━━━━━━━━━━━━━━━━━━\u001b[0m \u001b[32m82.0/82.0 kB\u001b[0m \u001b[31m11.5 MB/s\u001b[0m eta \u001b[36m0:00:00\u001b[0m\n",
            "\u001b[?25hRequirement already satisfied: python-dateutil<3.0.0,>=2.1 in /usr/local/lib/python3.10/dist-packages (from botocore) (2.8.2)\n",
            "Requirement already satisfied: urllib3<2.1,>=1.25.4 in /usr/local/lib/python3.10/dist-packages (from botocore) (2.0.7)\n",
            "Collecting protobuf<=4.21.12,>=4.21.1 (from mysql-connector-python)\n",
            "  Downloading protobuf-4.21.12-cp37-abi3-manylinux2014_x86_64.whl (409 kB)\n",
            "\u001b[2K     \u001b[90m━━━━━━━━━━━━━━━━━━━━━━━━━━━━━━━━━━━━━━━━\u001b[0m \u001b[32m409.8/409.8 kB\u001b[0m \u001b[31m38.8 MB/s\u001b[0m eta \u001b[36m0:00:00\u001b[0m\n",
            "\u001b[?25hRequirement already satisfied: six>=1.5 in /usr/local/lib/python3.10/dist-packages (from python-dateutil<3.0.0,>=2.1->botocore) (1.16.0)\n",
            "Installing collected packages: protobuf, jmespath, mysql-connector-python, botocore, s3transfer, boto3\n",
            "  Attempting uninstall: protobuf\n",
            "    Found existing installation: protobuf 3.20.3\n",
            "    Uninstalling protobuf-3.20.3:\n",
            "      Successfully uninstalled protobuf-3.20.3\n",
            "\u001b[31mERROR: pip's dependency resolver does not currently take into account all the packages that are installed. This behaviour is the source of the following dependency conflicts.\n",
            "tensorflow-metadata 1.14.0 requires protobuf<4.21,>=3.20.3, but you have protobuf 4.21.12 which is incompatible.\u001b[0m\u001b[31m\n",
            "\u001b[0mSuccessfully installed boto3-1.34.1 botocore-1.34.1 jmespath-1.0.1 mysql-connector-python-8.2.0 protobuf-4.21.12 s3transfer-0.9.0\n"
          ]
        }
      ],
      "source": [
        "!pip install boto3 botocore mysql-connector-python"
      ]
    },
    {
      "cell_type": "markdown",
      "metadata": {
        "id": "i96nCFKsQPaw"
      },
      "source": [
        "* Installing Required Python Packages: boto3, botocore, mysql-connector-python\n"
      ]
    },
    {
      "cell_type": "code",
      "execution_count": 3,
      "metadata": {
        "id": "3hg0GSuBpruy"
      },
      "outputs": [],
      "source": [
        "import boto3\n",
        "import mysql.connector\n",
        "from botocore.exceptions import NoCredentialsError\n",
        "import pandas as pd\n",
        "import io"
      ]
    },
    {
      "cell_type": "markdown",
      "metadata": {
        "id": "ffrc2OJiQTBO"
      },
      "source": [
        "\n",
        "* Declare important variable\n",
        "* Note : Transformation.sql file is a group of sql queries that is used to cleaning and filtering data\n",
        "* Transformation.sql file is attached with this code"
      ]
    },
    {
      "cell_type": "code",
      "execution_count": 1,
      "metadata": {
        "id": "WukDa0prpq9J"
      },
      "outputs": [],
      "source": [
        "#AWS Credential with region\n",
        "aws_access_key = 'your aws_access_key'\n",
        "aws_secret_key = 'your aws_secret_key'\n",
        "aws_region = 'ap-south-1'\n",
        "\n",
        "# Setup localpath\n",
        "# Note : Transformation.sql file is a group of sql queries that is used to cleaning and filtering data\n",
        "# Transformation.sql file is attached with this code \n",
        "local_file_path = '/content/drive/MyDrive/Colab Notebooks/Transform.sql'  # Replace with the path to your local file\n",
        "\n",
        "# S3 bucket and objeck key parameter configuration:\n",
        "# you can change value according to your need\n",
        "s3_bucket_name = 'etlpro'\n",
        "s3_object_key = 'IMDB_Movie_Ratings.xlsx'\n",
        "s3_object_key_1 = 'Transform.sql'  # Replace with the desired S3 object key\n",
        "s3_object_key_csv = 'Backup_imdb.csv' # Replace with the desired S3 object key\n",
        "\n",
        "# Database connection parameter configuration:\n",
        "host = 'ec2 instance public ip' #must be replace\n",
        "user = 'etl'\n",
        "password = 'sql user password'\n",
        "database = 'imdb'"
      ]
    },
    {
      "cell_type": "code",
      "execution_count": 47,
      "metadata": {
        "id": "FwcMsxvKFM5T"
      },
      "outputs": [],
      "source": [
        "def connect_to_mysql(host, user, password, database):\n",
        "    try:\n",
        "        connection = mysql.connector.connect(\n",
        "            host=host,\n",
        "            user=user,\n",
        "            password=password,\n",
        "            database=database\n",
        "        )\n",
        "        if connection.is_connected():\n",
        "            print(f\"Connected to MySQL database on host {host}\")\n",
        "            return connection\n",
        "    except mysql.connector.Error as e:\n",
        "        print(f\"Error connecting to MySQL: {e}\")\n",
        "        return None\n"
      ]
    },
    {
      "cell_type": "markdown",
      "metadata": {
        "id": "9HQnGjwjRCXr"
      },
      "source": [
        "* Database Connection, S3 Connection, and MySQL Cursor Initialization"
      ]
    },
    {
      "cell_type": "markdown",
      "metadata": {
        "id": "_xdCrNhQb_am"
      },
      "source": [
        "* Note : if your connection is not establish then setup this\n",
        "* sudo nano /etc/mysql/mysql.conf.d/mysqld.cnf\n",
        "* bind-address            = 0.0.0.0\n",
        "* after that restart the mysql service"
      ]
    },
    {
      "cell_type": "code",
      "execution_count": 48,
      "metadata": {
        "colab": {
          "base_uri": "https://localhost:8080/"
        },
        "id": "dBMIUIOFPpJ3",
        "outputId": "51ae3de5-5fb7-46ae-8340-8415fb657926"
      },
      "outputs": [
        {
          "name": "stdout",
          "output_type": "stream",
          "text": [
            "Connected to MySQL database on host 13.201.85.179\n"
          ]
        }
      ],
      "source": [
        "# Create a connection object to establish a connection to mysql database\n",
        "connection = connect_to_mysql(host, user, password, database)\n",
        "\n",
        "# Create a s3 object to Connect to S3\n",
        "s3 = boto3.client('s3', aws_access_key_id=aws_access_key, aws_secret_access_key=aws_secret_key, region_name=aws_region)\n",
        "\n",
        "# Create a cursor object to execute mysql database queries\n",
        "cursor = connection.cursor()"
      ]
    },
    {
      "cell_type": "markdown",
      "metadata": {
        "id": "J-31mOaoRNKm"
      },
      "source": [
        "* Set MySQL Connection to Autocommit Mode"
      ]
    },
    {
      "cell_type": "code",
      "execution_count": 32,
      "metadata": {
        "id": "b9q1TP57s1Sq"
      },
      "outputs": [],
      "source": [
        "connection.autocommit = True"
      ]
    },
    {
      "cell_type": "markdown",
      "metadata": {
        "id": "DvsS9v1rRX3z"
      },
      "source": [
        "* Use Database and Drop Table (If needed)\n"
      ]
    },
    {
      "cell_type": "code",
      "execution_count": 36,
      "metadata": {
        "colab": {
          "base_uri": "https://localhost:8080/"
        },
        "id": "rbGRrTYUqKpT",
        "outputId": "37bd88ed-74a9-4bcf-8d17-d62c4ab7bbe9"
      },
      "outputs": [
        {
          "name": "stdout",
          "output_type": "stream",
          "text": [
            "drop table movie_data successfully\n"
          ]
        }
      ],
      "source": [
        "# Only use when it's needed \n",
        "cursor.execute(\"use imdb\")\n",
        "cursor.execute(\"drop table movie_data;\")\n",
        "print(\"drop table movie_data successfully\")"
      ]
    },
    {
      "cell_type": "markdown",
      "metadata": {
        "id": "O2ivPybURnUp"
      },
      "source": [
        "* Function to Create MySQL Table 'movie_data' in Database 'imdb'\n",
        "* if you have to working on different data or database the must be change table schema"
      ]
    },
    {
      "cell_type": "code",
      "execution_count": 37,
      "metadata": {
        "id": "P-bHMb1cNrM8"
      },
      "outputs": [],
      "source": [
        "def create_table(connection):\n",
        "    try:\n",
        "        cursor.execute(\"use imdb\")\n",
        "        cursor.execute(\"\"\"\n",
        "            CREATE TABLE movie_data (\n",
        "                movie_name VARCHAR(255),\n",
        "                year_of_release INT,\n",
        "                watch_time VARCHAR(30),\n",
        "                rating DECIMAL(2, 1),\n",
        "                metascore INT,\n",
        "                votes INT,\n",
        "                description TEXT\n",
        "            )\n",
        "        \"\"\")\n",
        "        print(\"Table 'movie_data' created successfully.\")\n",
        "\n",
        "    except mysql.connector.Error as e:\n",
        "        print(f\"Error creating table: {e}\")\n"
      ]
    },
    {
      "cell_type": "markdown",
      "metadata": {
        "id": "etXA9ohrRxNQ"
      },
      "source": [
        "* Run the create_table() Function"
      ]
    },
    {
      "cell_type": "code",
      "execution_count": 38,
      "metadata": {
        "colab": {
          "base_uri": "https://localhost:8080/"
        },
        "id": "GKnqWUZ9WuSl",
        "outputId": "68e03a44-1d83-45c3-cd84-3ea03e232032"
      },
      "outputs": [
        {
          "name": "stdout",
          "output_type": "stream",
          "text": [
            "Table 'movie_data' created successfully.\n"
          ]
        }
      ],
      "source": [
        "create_table(connection)"
      ]
    },
    {
      "cell_type": "markdown",
      "metadata": {
        "id": "XHSm1PIUSCwV"
      },
      "source": [
        "* Function to Load Data from S3 to MySQL Database"
      ]
    },
    {
      "cell_type": "code",
      "execution_count": 39,
      "metadata": {
        "id": "c71A-0fTnNkp"
      },
      "outputs": [],
      "source": [
        "def load_data_to_mysql(connection, bucket_name, aws_access_key, aws_secret_key, region_name, s3_object_key):\n",
        "    try:\n",
        "        # Download data from S3\n",
        "        response = s3.get_object(Bucket=bucket_name, Key=s3_object_key)\n",
        "        data = response['Body'].read()\n",
        "\n",
        "        # Read the data into a DataFrame\n",
        "        df = pd.read_excel(io.BytesIO(data))\n",
        "        print(df)\n",
        "        print(df.columns)\n",
        "\n",
        "        # Iterate over rows and insert data into MySQL\n",
        "        for index, row in df.iterrows():\n",
        "            votes = row['Votes'].replace(',', '')\n",
        "            metascore = row['Meatscore of movie'].replace('*****', '0')\n",
        "            cursor.execute(\"\"\"\n",
        "                INSERT INTO movie_data (movie_name, year_of_release, watch_time, rating, metascore, votes, description)\n",
        "                VALUES (%s, %s, %s, %s, %s, %s, %s)\n",
        "            \"\"\", (row['Movie Name'], row['Year of Release'], row['Watch Time'], row['Movie Rating'], metascore, votes, row['Description']))\n",
        "\n",
        "        print(\"Data loaded into MySQL successfully.\")\n",
        "    except (mysql.connector.Error, NoCredentialsError) as e:\n",
        "        print(f\"Error loading data into MySQL: {e}\")\n",
        "\n",
        "\n"
      ]
    },
    {
      "cell_type": "markdown",
      "metadata": {
        "id": "lzRAZ3e4SLIi"
      },
      "source": [
        "* Run the load_data_to_mysql() Function"
      ]
    },
    {
      "cell_type": "code",
      "execution_count": 40,
      "metadata": {
        "colab": {
          "base_uri": "https://localhost:8080/"
        },
        "id": "lU0Rc7MtarfP",
        "outputId": "00f2e751-c1b9-4668-d4e1-3793d21ad774"
      },
      "outputs": [
        {
          "name": "stdout",
          "output_type": "stream",
          "text": [
            "                                           Movie Name  Year of Release  \\\n",
            "0                         1. The Shawshank Redemption             1994   \n",
            "1                                    2. The Godfather             1972   \n",
            "2                                  3. The Dark Knight             2008   \n",
            "3                                 4. Schindler's List             1993   \n",
            "4    5. The Lord of the Rings: The Return of the King             2003   \n",
            "..                                                ...              ...   \n",
            "245                                      246. Stalker             1979   \n",
            "246                             247. 12 Years a Slave             2013   \n",
            "247                                  248. Gran Torino             2008   \n",
            "248          249. Lock, Stock and Two Smoking Barrels             1998   \n",
            "249                                      250. Warrior             2011   \n",
            "\n",
            "    Watch Time  Movie Rating Meatscore of movie      Votes  \\\n",
            "0       2h 22m           9.3                 82  2,830,101   \n",
            "1       2h 55m           9.2                100  1,972,590   \n",
            "2       2h 32m           9.0                 84  2,811,521   \n",
            "3       3h 15m           9.0                 95  1,422,109   \n",
            "4       3h 21m           9.0                 94  1,937,891   \n",
            "..         ...           ...                ...        ...   \n",
            "245     2h 42m           8.1                 85    141,957   \n",
            "246     2h 14m           8.1                 96    730,822   \n",
            "247     1h 56m           8.1                 72    804,410   \n",
            "248     1h 47m           8.1                 66    607,410   \n",
            "249     2h 20m           8.1                 71    491,172   \n",
            "\n",
            "                                           Description  \n",
            "0    Over the course of several years, two convicts...  \n",
            "1    Don Vito Corleone, head of a mafia family, dec...  \n",
            "2    When the menace known as the Joker wreaks havo...  \n",
            "3    In German-occupied Poland during World War II,...  \n",
            "4    Gandalf and Aragorn lead the World of Men agai...  \n",
            "..                                                 ...  \n",
            "245  A guide leads two men through an area known as...  \n",
            "246  In the antebellum United States, Solomon North...  \n",
            "247  After a Hmong teenager tries to steal his priz...  \n",
            "248  Eddy persuades his three pals to pool money fo...  \n",
            "249  The youngest son of an alcoholic former boxer ...  \n",
            "\n",
            "[250 rows x 7 columns]\n",
            "Index(['Movie Name', 'Year of Release', 'Watch Time', 'Movie Rating',\n",
            "       'Meatscore of movie', 'Votes', 'Description'],\n",
            "      dtype='object')\n",
            "Data loaded into MySQL successfully.\n"
          ]
        }
      ],
      "source": [
        "# Call the function to load data into MySQL\n",
        "load_data_to_mysql(connection, s3_bucket_name, aws_access_key, aws_secret_key, aws_region, s3_object_key)"
      ]
    },
    {
      "cell_type": "markdown",
      "metadata": {
        "id": "aGErVRIiSXv6"
      },
      "source": [
        "* Function to Upload a Local File(Tranformation sql script) to an AWS S3 Bucket\n"
      ]
    },
    {
      "cell_type": "code",
      "execution_count": 41,
      "metadata": {
        "id": "xpW7TOGS4fEu"
      },
      "outputs": [],
      "source": [
        "def upload_to_s3(local_file, bucket, s3_key):\n",
        "    try:\n",
        "        # Upload the file\n",
        "        s3.upload_file(local_file, bucket, s3_key)\n",
        "        print(f\"File '{local_file}' uploaded to '{bucket}' with key '{s3_key}' successfully.\")\n",
        "    except FileNotFoundError:\n",
        "        print(f\"The file '{local_file}' was not found.\")\n",
        "    except NoCredentialsError:\n",
        "        print(\"Credentials not available or incorrect.\")"
      ]
    },
    {
      "cell_type": "markdown",
      "metadata": {
        "id": "s8KgweLbSimP"
      },
      "source": [
        "* Run the upload_to_s3() Function"
      ]
    },
    {
      "cell_type": "code",
      "execution_count": 42,
      "metadata": {
        "colab": {
          "base_uri": "https://localhost:8080/"
        },
        "id": "V49Yisn7vP1o",
        "outputId": "73d5094d-9d92-4c00-dc75-81789c4318a1"
      },
      "outputs": [
        {
          "name": "stdout",
          "output_type": "stream",
          "text": [
            "File '/content/drive/MyDrive/Colab Notebooks/Transform.sql' uploaded to 'etlpro' with key 'Transform.sql' successfully.\n"
          ]
        }
      ],
      "source": [
        "# Upload the file to S3\n",
        "upload_to_s3(local_file_path, s3_bucket_name, s3_object_key_1)"
      ]
    },
    {
      "cell_type": "markdown",
      "metadata": {
        "id": "Ti1RZpV0SyLv"
      },
      "source": [
        "* Function to Execute SQL Transformation Script from S3 on MySQL Database\n"
      ]
    },
    {
      "cell_type": "code",
      "execution_count": 43,
      "metadata": {
        "id": "CiYlEUGfWCJA"
      },
      "outputs": [],
      "source": [
        "def execute_sql_script_from_s3(connection, s3_bucket_name, aws_access_key, aws_secret_key, aws_region, s3_object_key):\n",
        "    try:\n",
        "        # Download SQL script from S3\n",
        "        response = s3.get_object(Bucket=s3_bucket_name, Key=s3_object_key_1)\n",
        "        sql_script = response['Body'].read().decode('utf-8')\n",
        "\n",
        "        # Execute the SQL script\n",
        "        cursor.execute(sql_script)\n",
        "\n",
        "        print(\"Transformation Script executed successfully!\")\n",
        "\n",
        "    except (mysql.connector.Error, NoCredentialsError) as e:\n",
        "        print(f\"Error executing script: {e}\")\n"
      ]
    },
    {
      "cell_type": "markdown",
      "metadata": {
        "id": "xmkPgQRaS5rL"
      },
      "source": [
        "* Run the execute_sql_script_from_s3() Function"
      ]
    },
    {
      "cell_type": "code",
      "execution_count": 44,
      "metadata": {
        "colab": {
          "base_uri": "https://localhost:8080/"
        },
        "id": "L-gULZcc508X",
        "outputId": "9e974b66-4f78-4be9-ffb2-a272b01b264c"
      },
      "outputs": [
        {
          "name": "stdout",
          "output_type": "stream",
          "text": [
            "Transformation Script executed successfully!\n"
          ]
        }
      ],
      "source": [
        "execute_sql_script_from_s3(connection, s3_bucket_name, aws_access_key, aws_secret_key, aws_region, s3_object_key_1)"
      ]
    },
    {
      "cell_type": "markdown",
      "metadata": {
        "id": "mCQW0JVQTHUI"
      },
      "source": [
        "* Function to Convert MySQL Data to CSV and Upload to S3\n"
      ]
    },
    {
      "cell_type": "code",
      "execution_count": 45,
      "metadata": {
        "id": "wynsV28Ug2S6"
      },
      "outputs": [],
      "source": [
        "def convert_to_csv_upload_to_s3(connection, s3_bucket_name, aws_access_key, aws_secret_key, aws_region, s3_object_key_csv):\n",
        "    try:\n",
        "        # Execute the SQL script\n",
        "        cursor.execute('use imdb;')\n",
        "        cursor.execute('SELECT * FROM movie_data;')\n",
        "\n",
        "        # Fetch data from the executed query\n",
        "        rows = cursor.fetchall()\n",
        "        columns = [column[0] for column in cursor.description]\n",
        "        df = pd.DataFrame.from_records(rows, columns=columns)\n",
        "\n",
        "        # Print the DataFrame\n",
        "        print(df)\n",
        "\n",
        "        print(\"SQL Script executed successfully!\")\n",
        "\n",
        "        # Save DataFrame to CSV\n",
        "        csv_content = df.to_csv(index=False)\n",
        "\n",
        "        # Upload CSV to S3\n",
        "        s3.put_object(Body=csv_content, Bucket=s3_bucket_name, Key=s3_object_key_csv)\n",
        "\n",
        "        print(\"CSV File uploaded to S3 successfully!\")\n",
        "\n",
        "    except (mysql.connector.Error, NoCredentialsError) as e:\n",
        "        print(f\"Error executing script: {e}\")"
      ]
    },
    {
      "cell_type": "markdown",
      "metadata": {
        "id": "bIKzVqzYTNL9"
      },
      "source": [
        "* Run the convert_to_csv_upload_to_s3() Function\n",
        "* if you problem or error to run this function then rerun the database connection and after that it will be resolve"
      ]
    },
    {
      "cell_type": "code",
      "execution_count": 49,
      "metadata": {
        "colab": {
          "base_uri": "https://localhost:8080/"
        },
        "id": "LNLZTEQNfaFs",
        "outputId": "bc39580a-3080-46f4-ed58-29e16ffca598"
      },
      "outputs": [
        {
          "name": "stdout",
          "output_type": "stream",
          "text": [
            "                                           movie_name  year_of_release  \\\n",
            "0                         1. The Shawshank Redemption             1994   \n",
            "1                                    2. The Godfather             1972   \n",
            "2                                  3. The Dark Knight             2008   \n",
            "3                                 4. Schindler's List             1993   \n",
            "4    5. The Lord of the Rings: The Return of the King             2003   \n",
            "..                                                ...              ...   \n",
            "202                                      246. Stalker             1979   \n",
            "203                             247. 12 Years a Slave             2013   \n",
            "204                                  248. Gran Torino             2008   \n",
            "205          249. Lock, Stock and Two Smoking Barrels             1998   \n",
            "206                                      250. Warrior             2011   \n",
            "\n",
            "    watch_time rating  metascore    votes avg_rating   id  \n",
            "0       2h 22m    9.3         82  2830101       45.7    1  \n",
            "1       2h 55m    9.2        100  1972590       54.6    2  \n",
            "2       2h 32m    9.0         84  2811521       46.5    3  \n",
            "3       3h 15m    9.0         95  1422109       52.0    4  \n",
            "4       3h 21m    9.0         94  1937891       51.5    5  \n",
            "..         ...    ...        ...      ...        ...  ...  \n",
            "202     2h 42m    8.1         85   141957       46.6  246  \n",
            "203     2h 14m    8.1         96   730822       52.1  247  \n",
            "204     1h 56m    8.1         72   804410       40.1  248  \n",
            "205     1h 47m    8.1         66   607410       37.1  249  \n",
            "206     2h 20m    8.1         71   491172       39.6  250  \n",
            "\n",
            "[207 rows x 8 columns]\n",
            "SQL Script executed successfully!\n",
            "CSV File uploaded to S3 successfully!\n"
          ]
        }
      ],
      "source": [
        "convert_to_csv_upload_to_s3(connection, s3_bucket_name, aws_access_key, aws_secret_key, aws_region, s3_object_key_csv)"
      ]
    },
    {
      "cell_type": "markdown",
      "metadata": {
        "id": "EQcVy_RxTWha"
      },
      "source": [
        "* Closing MySQL Database Connection"
      ]
    },
    {
      "cell_type": "code",
      "execution_count": 50,
      "metadata": {
        "id": "gRiKXvtSNUqe"
      },
      "outputs": [],
      "source": [
        "connection.close()"
      ]
    }
  ],
  "metadata": {
    "colab": {
      "provenance": []
    },
    "kernelspec": {
      "display_name": "Python 3",
      "name": "python3"
    },
    "language_info": {
      "codemirror_mode": {
        "name": "ipython",
        "version": 3
      },
      "file_extension": ".py",
      "mimetype": "text/x-python",
      "name": "python",
      "nbconvert_exporter": "python",
      "pygments_lexer": "ipython3",
      "version": "3.10.4"
    }
  },
  "nbformat": 4,
  "nbformat_minor": 0
}
